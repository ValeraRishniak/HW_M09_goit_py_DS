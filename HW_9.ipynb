{
  "nbformat": 4,
  "nbformat_minor": 0,
  "metadata": {
    "colab": {
      "provenance": []
    },
    "kernelspec": {
      "name": "python3",
      "display_name": "Python 3"
    },
    "language_info": {
      "name": "python"
    }
  },
  "cells": [
    {
      "cell_type": "code",
      "execution_count": 1,
      "metadata": {
        "id": "JdxWJU6r9goJ"
      },
      "outputs": [],
      "source": [
        "import pandas as pd\n",
        "import numpy as np\n",
        "import tensorflow as tf\n",
        "import matplotlib.pyplot as plt\n",
        "\n",
        "\n",
        "from keras.datasets import fashion_mnist\n",
        "from keras.layers import Flatten, Dense, Dropout\n",
        "from keras.models import Sequential\n",
        "from keras import utils"
      ]
    },
    {
      "cell_type": "code",
      "source": [],
      "metadata": {
        "id": "E7dUacltEYEa"
      },
      "execution_count": 1,
      "outputs": []
    },
    {
      "cell_type": "code",
      "source": [
        "# завантаження даних fashion_mnist\n",
        "(X_train, y_train), (X_test, y_test) = fashion_mnist.load_data()"
      ],
      "metadata": {
        "id": "qXYu91xiEUiw",
        "colab": {
          "base_uri": "https://localhost:8080/"
        },
        "outputId": "71e097bb-f542-461f-e8ba-cca443bebd85"
      },
      "execution_count": 2,
      "outputs": [
        {
          "output_type": "stream",
          "name": "stdout",
          "text": [
            "Downloading data from https://storage.googleapis.com/tensorflow/tf-keras-datasets/train-labels-idx1-ubyte.gz\n",
            "29515/29515 [==============================] - 0s 0us/step\n",
            "Downloading data from https://storage.googleapis.com/tensorflow/tf-keras-datasets/train-images-idx3-ubyte.gz\n",
            "26421880/26421880 [==============================] - 0s 0us/step\n",
            "Downloading data from https://storage.googleapis.com/tensorflow/tf-keras-datasets/t10k-labels-idx1-ubyte.gz\n",
            "5148/5148 [==============================] - 0s 0us/step\n",
            "Downloading data from https://storage.googleapis.com/tensorflow/tf-keras-datasets/t10k-images-idx3-ubyte.gz\n",
            "4422102/4422102 [==============================] - 0s 0us/step\n"
          ]
        }
      ]
    },
    {
      "cell_type": "code",
      "source": [
        "# наочна перевірка розміру, типу тренувальних та тестових даних\n",
        "print(X_train.shape)\n",
        "print(type(X_train[0]))\n",
        "print(len(X_train[0]))\n",
        "print(X_test.shape)\n",
        "print(type(X_test[0]))\n",
        "print(len(X_test[0]))"
      ],
      "metadata": {
        "colab": {
          "base_uri": "https://localhost:8080/"
        },
        "id": "rcR08dLTFXdw",
        "outputId": "143d2c99-1b42-47d6-adc2-890c7517f144"
      },
      "execution_count": 3,
      "outputs": [
        {
          "output_type": "stream",
          "name": "stdout",
          "text": [
            "(60000, 28, 28)\n",
            "<class 'numpy.ndarray'>\n",
            "28\n",
            "(10000, 28, 28)\n",
            "<class 'numpy.ndarray'>\n",
            "28\n"
          ]
        }
      ]
    },
    {
      "cell_type": "code",
      "source": [
        "# Зміна розмірності зображень\n",
        "x_train = X_train.reshape(60000, 784)\n",
        "x_test = X_test.reshape(10000, 784)\n",
        "# Нормалізація даних\n",
        "x_train = x_train / 255\n",
        "x_test = x_test / 255\n",
        "\n",
        "# Конвертація в категорії\n",
        "y_train = utils.to_categorical(y_train, 10)\n",
        "y_test = utils.to_categorical(y_test, 10)\n",
        "# print(\"y_train\", y_train)\n",
        "# print(\"y_test\", y_test)\n"
      ],
      "metadata": {
        "id": "veeDXMn2EaoL"
      },
      "execution_count": 4,
      "outputs": []
    },
    {
      "cell_type": "code",
      "source": [
        "# Створюємо модель нейронної мережі (НМ)\n",
        "# ВАРІАНТ-1: три шари, кількість нейронів на кожному шарі 320/160/10, функції активації - relu/relu/sigmoid\n",
        "model_1 = Sequential()\n",
        "model_1.add(Dense(320, activation='relu', input_shape=(784,)))\n",
        "model_1.add(Dense(160, activation='relu'))\n",
        "model_1.add(Dense(10, activation='sigmoid'))"
      ],
      "metadata": {
        "id": "PrrQkYrE5ke7"
      },
      "execution_count": 5,
      "outputs": []
    },
    {
      "cell_type": "code",
      "source": [
        "# Компілюємо модель (підгонка терезів нейромережі)\n",
        "model_1.compile(\n",
        "    optimizer=\"SGD\", # optimizer='rmsprop'\n",
        "    loss=\"categorical_crossentropy\",\n",
        "    metrics=[\"accuracy\"]\n",
        "    )"
      ],
      "metadata": {
        "id": "OkyFyDkU8FOJ"
      },
      "execution_count": 6,
      "outputs": []
    },
    {
      "cell_type": "code",
      "source": [
        "# дізнаємося архітектуру створеної НМ\n",
        "model_1.summary()"
      ],
      "metadata": {
        "colab": {
          "base_uri": "https://localhost:8080/"
        },
        "id": "mjgM0IDq-cwt",
        "outputId": "6f961de3-2f7b-4c5f-ba89-4fbe0f3bdc1c"
      },
      "execution_count": 7,
      "outputs": [
        {
          "output_type": "stream",
          "name": "stdout",
          "text": [
            "Model: \"sequential\"\n",
            "_________________________________________________________________\n",
            " Layer (type)                Output Shape              Param #   \n",
            "=================================================================\n",
            " dense (Dense)               (None, 320)               251200    \n",
            "                                                                 \n",
            " dense_1 (Dense)             (None, 160)               51360     \n",
            "                                                                 \n",
            " dense_2 (Dense)             (None, 10)                1610      \n",
            "                                                                 \n",
            "=================================================================\n",
            "Total params: 304170 (1.16 MB)\n",
            "Trainable params: 304170 (1.16 MB)\n",
            "Non-trainable params: 0 (0.00 Byte)\n",
            "_________________________________________________________________\n"
          ]
        }
      ]
    },
    {
      "cell_type": "code",
      "source": [
        "# навчання нейронної мережі - передаємо тренувальні та валідаційні дані, встановлюємо максимальну кількість епох, а також встановлюємо розмір пакету даних batch_size=512, на яких буде здійснено навчання.\n",
        "history_1 = model_1.fit(\n",
        "                    x_train,\n",
        "                    y_train,\n",
        "                    epochs=30,\n",
        "                    batch_size=512,\n",
        "                    validation_split=0.2,\n",
        "                    # verbose=1\n",
        "                        )"
      ],
      "metadata": {
        "colab": {
          "base_uri": "https://localhost:8080/"
        },
        "id": "BNKPYAsCBGwS",
        "outputId": "671d52e8-f3fe-4310-cfb9-9036349fc1f4"
      },
      "execution_count": 8,
      "outputs": [
        {
          "output_type": "stream",
          "name": "stdout",
          "text": [
            "Epoch 1/30\n",
            "94/94 [==============================] - 4s 33ms/step - loss: 1.7537 - accuracy: 0.4930 - val_loss: 1.3068 - val_accuracy: 0.6519\n",
            "Epoch 2/30\n",
            "94/94 [==============================] - 3s 36ms/step - loss: 1.1176 - accuracy: 0.6708 - val_loss: 0.9642 - val_accuracy: 0.6931\n",
            "Epoch 3/30\n",
            "94/94 [==============================] - 4s 39ms/step - loss: 0.8981 - accuracy: 0.7143 - val_loss: 0.8260 - val_accuracy: 0.7372\n",
            "Epoch 4/30\n",
            "94/94 [==============================] - 3s 33ms/step - loss: 0.7943 - accuracy: 0.7471 - val_loss: 0.7489 - val_accuracy: 0.7615\n",
            "Epoch 5/30\n",
            "94/94 [==============================] - 2s 25ms/step - loss: 0.7299 - accuracy: 0.7685 - val_loss: 0.6988 - val_accuracy: 0.7776\n",
            "Epoch 6/30\n",
            "94/94 [==============================] - 2s 18ms/step - loss: 0.6846 - accuracy: 0.7812 - val_loss: 0.6615 - val_accuracy: 0.7890\n",
            "Epoch 7/30\n",
            "94/94 [==============================] - 2s 23ms/step - loss: 0.6500 - accuracy: 0.7916 - val_loss: 0.6332 - val_accuracy: 0.7947\n",
            "Epoch 8/30\n",
            "94/94 [==============================] - 1s 16ms/step - loss: 0.6233 - accuracy: 0.7992 - val_loss: 0.6072 - val_accuracy: 0.8037\n",
            "Epoch 9/30\n",
            "94/94 [==============================] - 1s 16ms/step - loss: 0.6011 - accuracy: 0.8048 - val_loss: 0.5890 - val_accuracy: 0.8077\n",
            "Epoch 10/30\n",
            "94/94 [==============================] - 1s 16ms/step - loss: 0.5824 - accuracy: 0.8108 - val_loss: 0.5756 - val_accuracy: 0.8120\n",
            "Epoch 11/30\n",
            "94/94 [==============================] - 1s 16ms/step - loss: 0.5675 - accuracy: 0.8147 - val_loss: 0.5585 - val_accuracy: 0.8167\n",
            "Epoch 12/30\n",
            "94/94 [==============================] - 1s 16ms/step - loss: 0.5539 - accuracy: 0.8180 - val_loss: 0.5480 - val_accuracy: 0.8175\n",
            "Epoch 13/30\n",
            "94/94 [==============================] - 1s 16ms/step - loss: 0.5422 - accuracy: 0.8211 - val_loss: 0.5384 - val_accuracy: 0.8195\n",
            "Epoch 14/30\n",
            "94/94 [==============================] - 2s 22ms/step - loss: 0.5323 - accuracy: 0.8231 - val_loss: 0.5311 - val_accuracy: 0.8190\n",
            "Epoch 15/30\n",
            "94/94 [==============================] - 2s 20ms/step - loss: 0.5228 - accuracy: 0.8261 - val_loss: 0.5215 - val_accuracy: 0.8234\n",
            "Epoch 16/30\n",
            "94/94 [==============================] - 1s 16ms/step - loss: 0.5146 - accuracy: 0.8276 - val_loss: 0.5139 - val_accuracy: 0.8268\n",
            "Epoch 17/30\n",
            "94/94 [==============================] - 1s 15ms/step - loss: 0.5075 - accuracy: 0.8302 - val_loss: 0.5075 - val_accuracy: 0.8277\n",
            "Epoch 18/30\n",
            "94/94 [==============================] - 1s 16ms/step - loss: 0.5012 - accuracy: 0.8314 - val_loss: 0.5013 - val_accuracy: 0.8292\n",
            "Epoch 19/30\n",
            "94/94 [==============================] - 1s 16ms/step - loss: 0.4953 - accuracy: 0.8336 - val_loss: 0.4980 - val_accuracy: 0.8288\n",
            "Epoch 20/30\n",
            "94/94 [==============================] - 2s 16ms/step - loss: 0.4897 - accuracy: 0.8347 - val_loss: 0.4920 - val_accuracy: 0.8311\n",
            "Epoch 21/30\n",
            "94/94 [==============================] - 1s 16ms/step - loss: 0.4848 - accuracy: 0.8364 - val_loss: 0.4870 - val_accuracy: 0.8324\n",
            "Epoch 22/30\n",
            "94/94 [==============================] - 2s 24ms/step - loss: 0.4800 - accuracy: 0.8364 - val_loss: 0.4833 - val_accuracy: 0.8328\n",
            "Epoch 23/30\n",
            "94/94 [==============================] - 2s 18ms/step - loss: 0.4762 - accuracy: 0.8380 - val_loss: 0.4777 - val_accuracy: 0.8348\n",
            "Epoch 24/30\n",
            "94/94 [==============================] - 1s 16ms/step - loss: 0.4717 - accuracy: 0.8396 - val_loss: 0.4746 - val_accuracy: 0.8357\n",
            "Epoch 25/30\n",
            "94/94 [==============================] - 2s 16ms/step - loss: 0.4679 - accuracy: 0.8411 - val_loss: 0.4721 - val_accuracy: 0.8353\n",
            "Epoch 26/30\n",
            "94/94 [==============================] - 1s 16ms/step - loss: 0.4641 - accuracy: 0.8414 - val_loss: 0.4679 - val_accuracy: 0.8389\n",
            "Epoch 27/30\n",
            "94/94 [==============================] - 2s 18ms/step - loss: 0.4612 - accuracy: 0.8417 - val_loss: 0.4660 - val_accuracy: 0.8368\n",
            "Epoch 28/30\n",
            "94/94 [==============================] - 1s 16ms/step - loss: 0.4576 - accuracy: 0.8436 - val_loss: 0.4681 - val_accuracy: 0.8363\n",
            "Epoch 29/30\n",
            "94/94 [==============================] - 2s 19ms/step - loss: 0.4546 - accuracy: 0.8440 - val_loss: 0.4609 - val_accuracy: 0.8383\n",
            "Epoch 30/30\n",
            "94/94 [==============================] - 2s 23ms/step - loss: 0.4517 - accuracy: 0.8455 - val_loss: 0.4572 - val_accuracy: 0.8409\n"
          ]
        }
      ]
    },
    {
      "cell_type": "code",
      "source": [
        "pd.DataFrame(history_1.history).plot(figsize=(8, 5))\n",
        "plt.grid(True)\n",
        "plt.gca().set_ylim(0, 1)\n",
        "plt.show()"
      ],
      "metadata": {
        "colab": {
          "base_uri": "https://localhost:8080/",
          "height": 451
        },
        "id": "QYQx2Ur-eQ_n",
        "outputId": "a9f0b1ed-cac4-4dae-cf42-6b98dcec8c2f"
      },
      "execution_count": 69,
      "outputs": [
        {
          "output_type": "display_data",
          "data": {
            "text/plain": [
              "<Figure size 800x500 with 1 Axes>"
            ],
            "image/png": "[encoded data removed]"
          },
          "metadata": {}
        }
      ]
    },
    {
      "cell_type": "code",
      "source": [
        "# Оцінка якості моделі-1\n",
        "results_1 = model_1.evaluate(x_test, y_test)\n",
        "print(f'відсоток вірних відповідей - {round(results_1[1] * 100, 1)}%')"
      ],
      "metadata": {
        "colab": {
          "base_uri": "https://localhost:8080/"
        },
        "id": "2l0TjcEBEDKC",
        "outputId": "c7645300-2d98-4f6e-d461-c9a448d98385"
      },
      "execution_count": 9,
      "outputs": [
        {
          "output_type": "stream",
          "name": "stdout",
          "text": [
            "313/313 [==============================] - 1s 2ms/step - loss: 0.4815 - accuracy: 0.8328\n",
            "відсоток вірних відповідей - 83.3%\n"
          ]
        }
      ]
    },
    {
      "cell_type": "markdown",
      "source": [
        "Висновок щодо МОДЕЛІ-1: гіперпараметри підібрані не достатньо точно для досягнення результату відповідно до вимог ДЗ"
      ],
      "metadata": {
        "id": "c6r1l_jMOAtl"
      }
    },
    {
      "cell_type": "code",
      "source": [
        "# Створюємо модель нейронної мережі (НМ)\n",
        "# ВАРІАНТ-2: п'ять шарів, кількість нейронів на кожному шарі 1280/640/320/160/10, функції активації - relu/relu/relu/relu/sigmoid\n",
        "model_2 = Sequential()\n",
        "model_2.add(Dense(1280, activation='relu', input_shape=(784,)))\n",
        "model_2.add(Dense(640, activation='relu'))\n",
        "model_2.add(Dense(320, activation='relu'))\n",
        "model_2.add(Dense(160, activation='relu'))\n",
        "model_2.add(Dense(10, activation='sigmoid'))"
      ],
      "metadata": {
        "id": "7VU5MT8hPlCl"
      },
      "execution_count": 10,
      "outputs": []
    },
    {
      "cell_type": "code",
      "source": [
        "# Компілюємо модель (підгонка терезів нейромережі)\n",
        "model_2.compile(\n",
        "    optimizer=\"rmsprop\",\n",
        "    loss=\"categorical_crossentropy\",\n",
        "    metrics=[\"accuracy\"]\n",
        "    )"
      ],
      "metadata": {
        "id": "kR9IDym2Qrb3"
      },
      "execution_count": 11,
      "outputs": []
    },
    {
      "cell_type": "code",
      "source": [
        "# дізнаємося архітектуру створеної НМ\n",
        "model_2.summary()"
      ],
      "metadata": {
        "colab": {
          "base_uri": "https://localhost:8080/"
        },
        "id": "Q342A5nuQykZ",
        "outputId": "11c879db-44e6-465c-f98c-3a153e1e614a"
      },
      "execution_count": 12,
      "outputs": [
        {
          "output_type": "stream",
          "name": "stdout",
          "text": [
            "Model: \"sequential_1\"\n",
            "_________________________________________________________________\n",
            " Layer (type)                Output Shape              Param #   \n",
            "=================================================================\n",
            " dense_3 (Dense)             (None, 1280)              1004800   \n",
            "                                                                 \n",
            " dense_4 (Dense)             (None, 640)               819840    \n",
            "                                                                 \n",
            " dense_5 (Dense)             (None, 320)               205120    \n",
            "                                                                 \n",
            " dense_6 (Dense)             (None, 160)               51360     \n",
            "                                                                 \n",
            " dense_7 (Dense)             (None, 10)                1610      \n",
            "                                                                 \n",
            "=================================================================\n",
            "Total params: 2082730 (7.94 MB)\n",
            "Trainable params: 2082730 (7.94 MB)\n",
            "Non-trainable params: 0 (0.00 Byte)\n",
            "_________________________________________________________________\n"
          ]
        }
      ]
    },
    {
      "cell_type": "code",
      "source": [
        "# навчання нейронної мережі - передаємо тренувальні та валідаційні дані, встановлюємо максимальну кількість епох, а також встановлюємо розмір пакету даних batch_size=512, на яких буде здійснено навчання.\n",
        "history_2 = model_2.fit(\n",
        "                    x_train,\n",
        "                    y_train,\n",
        "                    epochs=50,\n",
        "                    batch_size=512,\n",
        "                    validation_split=0.2,\n",
        "                    verbose=1\n",
        "                        )"
      ],
      "metadata": {
        "colab": {
          "base_uri": "https://localhost:8080/"
        },
        "id": "XCug58W5Q1TF",
        "outputId": "b25709de-a10f-409f-ae6c-3d1c3e96c0ea"
      },
      "execution_count": 13,
      "outputs": [
        {
          "output_type": "stream",
          "name": "stdout",
          "text": [
            "Epoch 1/50\n",
            "94/94 [==============================] - 11s 113ms/step - loss: 0.9290 - accuracy: 0.6606 - val_loss: 0.6064 - val_accuracy: 0.7650\n",
            "Epoch 2/50\n",
            "94/94 [==============================] - 9s 100ms/step - loss: 0.5363 - accuracy: 0.8017 - val_loss: 0.5101 - val_accuracy: 0.8108\n",
            "Epoch 3/50\n",
            "94/94 [==============================] - 11s 115ms/step - loss: 0.4550 - accuracy: 0.8326 - val_loss: 0.4052 - val_accuracy: 0.8554\n",
            "Epoch 4/50\n",
            "94/94 [==============================] - 11s 116ms/step - loss: 0.4028 - accuracy: 0.8490 - val_loss: 0.4105 - val_accuracy: 0.8440\n",
            "Epoch 5/50\n",
            "94/94 [==============================] - 11s 116ms/step - loss: 0.3775 - accuracy: 0.8591 - val_loss: 0.3884 - val_accuracy: 0.8584\n",
            "Epoch 6/50\n",
            "94/94 [==============================] - 11s 116ms/step - loss: 0.3477 - accuracy: 0.8700 - val_loss: 0.4037 - val_accuracy: 0.8568\n",
            "Epoch 7/50\n",
            "94/94 [==============================] - 10s 110ms/step - loss: 0.3290 - accuracy: 0.8745 - val_loss: 0.3483 - val_accuracy: 0.8727\n",
            "Epoch 8/50\n",
            "94/94 [==============================] - 11s 121ms/step - loss: 0.3129 - accuracy: 0.8813 - val_loss: 0.3309 - val_accuracy: 0.8797\n",
            "Epoch 9/50\n",
            "94/94 [==============================] - 10s 106ms/step - loss: 0.2996 - accuracy: 0.8861 - val_loss: 0.3579 - val_accuracy: 0.8629\n",
            "Epoch 10/50\n",
            "94/94 [==============================] - 10s 111ms/step - loss: 0.2844 - accuracy: 0.8934 - val_loss: 0.3221 - val_accuracy: 0.8799\n",
            "Epoch 11/50\n",
            "94/94 [==============================] - 11s 122ms/step - loss: 0.2746 - accuracy: 0.8941 - val_loss: 0.3321 - val_accuracy: 0.8832\n",
            "Epoch 12/50\n",
            "94/94 [==============================] - 10s 111ms/step - loss: 0.2634 - accuracy: 0.8992 - val_loss: 0.3340 - val_accuracy: 0.8852\n",
            "Epoch 13/50\n",
            "94/94 [==============================] - 10s 110ms/step - loss: 0.2499 - accuracy: 0.9043 - val_loss: 0.3283 - val_accuracy: 0.8807\n",
            "Epoch 14/50\n",
            "94/94 [==============================] - 10s 110ms/step - loss: 0.2448 - accuracy: 0.9049 - val_loss: 0.3338 - val_accuracy: 0.8829\n",
            "Epoch 15/50\n",
            "94/94 [==============================] - 10s 108ms/step - loss: 0.2324 - accuracy: 0.9103 - val_loss: 0.3352 - val_accuracy: 0.8845\n",
            "Epoch 16/50\n",
            "94/94 [==============================] - 10s 108ms/step - loss: 0.2271 - accuracy: 0.9128 - val_loss: 0.3037 - val_accuracy: 0.8925\n",
            "Epoch 17/50\n",
            "94/94 [==============================] - 11s 116ms/step - loss: 0.2207 - accuracy: 0.9140 - val_loss: 0.3193 - val_accuracy: 0.8885\n",
            "Epoch 18/50\n",
            "94/94 [==============================] - 10s 111ms/step - loss: 0.2122 - accuracy: 0.9186 - val_loss: 0.3208 - val_accuracy: 0.8917\n",
            "Epoch 19/50\n",
            "94/94 [==============================] - 10s 111ms/step - loss: 0.2041 - accuracy: 0.9204 - val_loss: 0.3340 - val_accuracy: 0.8879\n",
            "Epoch 20/50\n",
            "94/94 [==============================] - 11s 116ms/step - loss: 0.1984 - accuracy: 0.9228 - val_loss: 0.3799 - val_accuracy: 0.8657\n",
            "Epoch 21/50\n",
            "94/94 [==============================] - 11s 112ms/step - loss: 0.1899 - accuracy: 0.9260 - val_loss: 0.3424 - val_accuracy: 0.8805\n",
            "Epoch 22/50\n",
            "94/94 [==============================] - 16s 176ms/step - loss: 0.1824 - accuracy: 0.9289 - val_loss: 0.3348 - val_accuracy: 0.8895\n",
            "Epoch 23/50\n",
            "94/94 [==============================] - 11s 116ms/step - loss: 0.1819 - accuracy: 0.9297 - val_loss: 0.3895 - val_accuracy: 0.8752\n",
            "Epoch 24/50\n",
            "94/94 [==============================] - 11s 114ms/step - loss: 0.1699 - accuracy: 0.9322 - val_loss: 0.3698 - val_accuracy: 0.8940\n",
            "Epoch 25/50\n",
            "94/94 [==============================] - 10s 106ms/step - loss: 0.1669 - accuracy: 0.9338 - val_loss: 0.3345 - val_accuracy: 0.9005\n",
            "Epoch 26/50\n",
            "94/94 [==============================] - 10s 110ms/step - loss: 0.1618 - accuracy: 0.9366 - val_loss: 0.5130 - val_accuracy: 0.8567\n",
            "Epoch 27/50\n",
            "94/94 [==============================] - 11s 116ms/step - loss: 0.1604 - accuracy: 0.9365 - val_loss: 0.3682 - val_accuracy: 0.8935\n",
            "Epoch 28/50\n",
            "94/94 [==============================] - 10s 111ms/step - loss: 0.1520 - accuracy: 0.9391 - val_loss: 0.3718 - val_accuracy: 0.8924\n",
            "Epoch 29/50\n",
            "94/94 [==============================] - 11s 116ms/step - loss: 0.1457 - accuracy: 0.9431 - val_loss: 0.3965 - val_accuracy: 0.8855\n",
            "Epoch 30/50\n",
            "94/94 [==============================] - 12s 126ms/step - loss: 0.1489 - accuracy: 0.9435 - val_loss: 0.3454 - val_accuracy: 0.8977\n",
            "Epoch 31/50\n",
            "94/94 [==============================] - 11s 118ms/step - loss: 0.1381 - accuracy: 0.9457 - val_loss: 0.3624 - val_accuracy: 0.8949\n",
            "Epoch 32/50\n",
            "94/94 [==============================] - 12s 124ms/step - loss: 0.1383 - accuracy: 0.9458 - val_loss: 0.3836 - val_accuracy: 0.8942\n",
            "Epoch 33/50\n",
            "94/94 [==============================] - 10s 105ms/step - loss: 0.1297 - accuracy: 0.9476 - val_loss: 0.4210 - val_accuracy: 0.8938\n",
            "Epoch 34/50\n",
            "94/94 [==============================] - 11s 112ms/step - loss: 0.1241 - accuracy: 0.9507 - val_loss: 0.4131 - val_accuracy: 0.8996\n",
            "Epoch 35/50\n",
            "94/94 [==============================] - 11s 116ms/step - loss: 0.1214 - accuracy: 0.9522 - val_loss: 0.3991 - val_accuracy: 0.8913\n",
            "Epoch 36/50\n",
            "94/94 [==============================] - 11s 116ms/step - loss: 0.1175 - accuracy: 0.9534 - val_loss: 0.4028 - val_accuracy: 0.8959\n",
            "Epoch 37/50\n",
            "94/94 [==============================] - 10s 110ms/step - loss: 0.1167 - accuracy: 0.9542 - val_loss: 0.4527 - val_accuracy: 0.8934\n",
            "Epoch 38/50\n",
            "94/94 [==============================] - 11s 116ms/step - loss: 0.1128 - accuracy: 0.9564 - val_loss: 0.4334 - val_accuracy: 0.8932\n",
            "Epoch 39/50\n",
            "94/94 [==============================] - 11s 113ms/step - loss: 0.1092 - accuracy: 0.9569 - val_loss: 0.4360 - val_accuracy: 0.8967\n",
            "Epoch 40/50\n",
            "94/94 [==============================] - 10s 111ms/step - loss: 0.1058 - accuracy: 0.9589 - val_loss: 0.4303 - val_accuracy: 0.9006\n",
            "Epoch 41/50\n",
            "94/94 [==============================] - 10s 106ms/step - loss: 0.1043 - accuracy: 0.9592 - val_loss: 0.4707 - val_accuracy: 0.8731\n",
            "Epoch 42/50\n",
            "94/94 [==============================] - 11s 116ms/step - loss: 0.0993 - accuracy: 0.9610 - val_loss: 0.4515 - val_accuracy: 0.8970\n",
            "Epoch 43/50\n",
            "94/94 [==============================] - 10s 111ms/step - loss: 0.0944 - accuracy: 0.9630 - val_loss: 0.4790 - val_accuracy: 0.8964\n",
            "Epoch 44/50\n",
            "94/94 [==============================] - 10s 110ms/step - loss: 0.0979 - accuracy: 0.9624 - val_loss: 0.5392 - val_accuracy: 0.8888\n",
            "Epoch 45/50\n",
            "94/94 [==============================] - 11s 116ms/step - loss: 0.0912 - accuracy: 0.9642 - val_loss: 0.9108 - val_accuracy: 0.8549\n",
            "Epoch 46/50\n",
            "94/94 [==============================] - 11s 120ms/step - loss: 0.0944 - accuracy: 0.9655 - val_loss: 0.5058 - val_accuracy: 0.9007\n",
            "Epoch 47/50\n",
            "94/94 [==============================] - 10s 101ms/step - loss: 0.0907 - accuracy: 0.9651 - val_loss: 0.4946 - val_accuracy: 0.8897\n",
            "Epoch 48/50\n",
            "94/94 [==============================] - 11s 114ms/step - loss: 0.0816 - accuracy: 0.9686 - val_loss: 0.4925 - val_accuracy: 0.8980\n",
            "Epoch 49/50\n",
            "94/94 [==============================] - 10s 110ms/step - loss: 0.0853 - accuracy: 0.9672 - val_loss: 0.4775 - val_accuracy: 0.8962\n",
            "Epoch 50/50\n",
            "94/94 [==============================] - 10s 111ms/step - loss: 0.0762 - accuracy: 0.9702 - val_loss: 0.5720 - val_accuracy: 0.8873\n"
          ]
        }
      ]
    },
    {
      "cell_type": "code",
      "source": [
        "pd.DataFrame(history_2.history).plot(figsize=(8, 5))\n",
        "plt.grid(True)\n",
        "plt.gca().set_ylim(0, 1)\n",
        "plt.show()"
      ],
      "metadata": {
        "colab": {
          "base_uri": "https://localhost:8080/",
          "height": 451
        },
        "id": "Ka0-NrpG-90U",
        "outputId": "7c1ec394-d578-460b-94ac-692785000a59"
      },
      "execution_count": 70,
      "outputs": [
        {
          "output_type": "display_data",
          "data": {
            "text/plain": [
              "<Figure size 800x500 with 1 Axes>"
            ],
            "image/png": "[encoded data removed]"
          },
          "metadata": {}
        }
      ]
    },
    {
      "cell_type": "code",
      "source": [
        "# Оцінка якості моделі-1\n",
        "results_2 = model_2.evaluate(x_test, y_test)\n",
        "print(f'відсоток вірних відповідей - {round(results_2[1] * 100, 1)}%')"
      ],
      "metadata": {
        "colab": {
          "base_uri": "https://localhost:8080/"
        },
        "id": "Xl_pypYzQ_0b",
        "outputId": "be5d1dee-cc6c-49d1-f44b-a49b5c3ada75"
      },
      "execution_count": 14,
      "outputs": [
        {
          "output_type": "stream",
          "name": "stdout",
          "text": [
            "313/313 [==============================] - 2s 5ms/step - loss: 0.5994 - accuracy: 0.8861\n",
            "відсоток вірних відповідей - 88.6%\n"
          ]
        }
      ]
    },
    {
      "cell_type": "markdown",
      "source": [
        "Висновок щодо МОДЕЛІ-2: Гіперпараметри підбрані краще, але виконання коду зайняло багато часу (~ 11 хв, при другому запуску ~ 9 хв)\n"
      ],
      "metadata": {
        "id": "CNdYjnUTRAvx"
      }
    },
    {
      "cell_type": "code",
      "source": [],
      "metadata": {
        "id": "rvvwi_ciDKGa"
      },
      "execution_count": null,
      "outputs": []
    },
    {
      "cell_type": "code",
      "source": [
        "# Створюємо модель нейронної мережі (НМ)\n",
        "# ВАРІАНТ-3: два шари, кількість нейронів на кожному шарі 1000/10, функції активації - sigmoid/relu\n",
        "model_3 = Sequential()\n",
        "model_3.add(Dense(1000, activation='sigmoid', input_shape=(784,)))\n",
        "model_3.add(Dense(10, activation='relu'))"
      ],
      "metadata": {
        "id": "mfwB3Vm-UqfG"
      },
      "execution_count": 24,
      "outputs": []
    },
    {
      "cell_type": "code",
      "source": [
        "# Компілюємо модель (підгонка терезів нейромережі)\n",
        "model_3.compile(\n",
        "    optimizer=\"Adam\",\n",
        "    loss=\"categorical_crossentropy\",\n",
        "    metrics=[\"accuracy\"]\n",
        "    )"
      ],
      "metadata": {
        "id": "XaMz0tUe-zeJ"
      },
      "execution_count": 25,
      "outputs": []
    },
    {
      "cell_type": "code",
      "source": [
        "# дізнаємося архітектуру створеної НМ\n",
        "model_3.summary()"
      ],
      "metadata": {
        "colab": {
          "base_uri": "https://localhost:8080/"
        },
        "id": "lM10Lvgu-3ra",
        "outputId": "f37f9db6-83fd-4b45-caea-ff40f48417ed"
      },
      "execution_count": 26,
      "outputs": [
        {
          "output_type": "stream",
          "name": "stdout",
          "text": [
            "Model: \"sequential_4\"\n",
            "_________________________________________________________________\n",
            " Layer (type)                Output Shape              Param #   \n",
            "=================================================================\n",
            " dense_12 (Dense)            (None, 1000)              785000    \n",
            "                                                                 \n",
            " dense_13 (Dense)            (None, 10)                10010     \n",
            "                                                                 \n",
            "=================================================================\n",
            "Total params: 795010 (3.03 MB)\n",
            "Trainable params: 795010 (3.03 MB)\n",
            "Non-trainable params: 0 (0.00 Byte)\n",
            "_________________________________________________________________\n"
          ]
        }
      ]
    },
    {
      "cell_type": "code",
      "source": [
        "# навчання нейронної мережі - передаємо тренувальні та валідаційні дані, встановлюємо максимальну кількість епох, а також встановлюємо розмір пакету даних batch_size=512, на яких буде здійснено навчання.\n",
        "history_3 = model_3.fit(\n",
        "                    x_train,\n",
        "                    y_train,\n",
        "                    epochs=5,\n",
        "                    batch_size=1024,\n",
        "                    validation_split=0.2,\n",
        "                        )"
      ],
      "metadata": {
        "colab": {
          "base_uri": "https://localhost:8080/"
        },
        "id": "yJEyVT7h---G",
        "outputId": "1486db01-9a21-4afa-9729-0351abe3371f"
      },
      "execution_count": 27,
      "outputs": [
        {
          "output_type": "stream",
          "name": "stdout",
          "text": [
            "Epoch 1/5\n",
            "47/47 [==============================] - 5s 92ms/step - loss: 4.2420 - accuracy: 0.3954 - val_loss: nan - val_accuracy: 0.5972\n",
            "Epoch 2/5\n",
            "47/47 [==============================] - 4s 75ms/step - loss: nan - accuracy: 0.1104 - val_loss: nan - val_accuracy: 0.1030\n",
            "Epoch 3/5\n",
            "47/47 [==============================] - 4s 75ms/step - loss: nan - accuracy: 0.0993 - val_loss: nan - val_accuracy: 0.1030\n",
            "Epoch 4/5\n",
            "47/47 [==============================] - 4s 95ms/step - loss: nan - accuracy: 0.0993 - val_loss: nan - val_accuracy: 0.1030\n",
            "Epoch 5/5\n",
            "47/47 [==============================] - 4s 75ms/step - loss: nan - accuracy: 0.0993 - val_loss: nan - val_accuracy: 0.1030\n"
          ]
        }
      ]
    },
    {
      "cell_type": "code",
      "source": [
        "pd.DataFrame(history_3.history).plot(figsize=(8, 5))\n",
        "plt.grid(True)\n",
        "plt.gca().set_ylim(0, 1)\n",
        "plt.show()"
      ],
      "metadata": {
        "colab": {
          "base_uri": "https://localhost:8080/",
          "height": 451
        },
        "id": "jSZC6iR7gzqg",
        "outputId": "07218f14-7c48-473b-a6dc-c8e25a79aa61"
      },
      "execution_count": 71,
      "outputs": [
        {
          "output_type": "display_data",
          "data": {
            "text/plain": [
              "<Figure size 800x500 with 1 Axes>"
            ],
            "image/png": "[encoded data removed]"
          },
          "metadata": {}
        }
      ]
    },
    {
      "cell_type": "code",
      "source": [
        "# Оцінка якості моделі-3\n",
        "results_3 = model_3.evaluate(x_test, y_test)\n",
        "print(f'відсоток вірних відповідей - {round(results_3[1] * 100, 1)}%')"
      ],
      "metadata": {
        "colab": {
          "base_uri": "https://localhost:8080/"
        },
        "id": "62TJbtmb-_AX",
        "outputId": "534ae047-0bd1-4cfc-e87e-907a4a797161"
      },
      "execution_count": 28,
      "outputs": [
        {
          "output_type": "stream",
          "name": "stdout",
          "text": [
            "313/313 [==============================] - 1s 3ms/step - loss: nan - accuracy: 0.1000\n",
            "відсоток вірних відповідей - 10.0%\n"
          ]
        }
      ]
    },
    {
      "cell_type": "markdown",
      "source": [
        "Висновок щодо МОДЕЛІ-3: гіперпараметри підбрані невдало, що призводить до низької результативності НМ"
      ],
      "metadata": {
        "id": "g149nUs8_EB6"
      }
    },
    {
      "cell_type": "code",
      "source": [],
      "metadata": {
        "id": "kLIQjmVPDDoo"
      },
      "execution_count": null,
      "outputs": []
    },
    {
      "cell_type": "code",
      "source": [
        "# Створюємо модель нейронної мережі (НМ)\n",
        "# ВАРІАНТ-4: три шари, кількість нейронів на кожному шарі 1280/640/320/160/10, функції активації - relu/relu/relu/relu/sigmoid\n",
        "model_4 = Sequential()\n",
        "model_4.add(Dense(800, activation='linear', input_shape=(784,)))\n",
        "model_4.add(Dense(400, activation='relu'))\n",
        "model_4.add(Dense(10, activation='sigmoid'))"
      ],
      "metadata": {
        "id": "kyHf0V0kB4If"
      },
      "execution_count": 40,
      "outputs": []
    },
    {
      "cell_type": "code",
      "source": [
        "# Компілюємо модель (підгонка терезів нейромережі)\n",
        "model_4.compile(\n",
        "    optimizer=\"adamax\",\n",
        "    loss=\"categorical_crossentropy\",\n",
        "    metrics=[\"accuracy\"]\n",
        "    )"
      ],
      "metadata": {
        "id": "KGsVYZ2IB4ch"
      },
      "execution_count": 41,
      "outputs": []
    },
    {
      "cell_type": "code",
      "source": [
        "# дізнаємося архітектуру створеної НМ\n",
        "model_4.summary()"
      ],
      "metadata": {
        "colab": {
          "base_uri": "https://localhost:8080/"
        },
        "id": "6wPVxXdWB4lW",
        "outputId": "4bf95778-dbe4-45b5-9c8b-351eebf58628"
      },
      "execution_count": 42,
      "outputs": [
        {
          "output_type": "stream",
          "name": "stdout",
          "text": [
            "Model: \"sequential_7\"\n",
            "_________________________________________________________________\n",
            " Layer (type)                Output Shape              Param #   \n",
            "=================================================================\n",
            " dense_20 (Dense)            (None, 800)               628000    \n",
            "                                                                 \n",
            " dense_21 (Dense)            (None, 400)               320400    \n",
            "                                                                 \n",
            " dense_22 (Dense)            (None, 10)                4010      \n",
            "                                                                 \n",
            "=================================================================\n",
            "Total params: 952410 (3.63 MB)\n",
            "Trainable params: 952410 (3.63 MB)\n",
            "Non-trainable params: 0 (0.00 Byte)\n",
            "_________________________________________________________________\n"
          ]
        }
      ]
    },
    {
      "cell_type": "code",
      "source": [
        "# навчання нейронної мережі - передаємо тренувальні та валідаційні дані, встановлюємо максимальну кількість епох, а також встановлюємо розмір пакету даних batch_size=512, на яких буде здійснено навчання.\n",
        "history_4 = model_4.fit(\n",
        "                    x_train,\n",
        "                    y_train,\n",
        "                    epochs=10,\n",
        "                    batch_size=128,\n",
        "                    verbose=\"auto\"\n",
        "                        )"
      ],
      "metadata": {
        "colab": {
          "base_uri": "https://localhost:8080/"
        },
        "id": "P5kV2HO0B4tt",
        "outputId": "0a8a0971-f23a-4c42-8b55-5abea18244fd"
      },
      "execution_count": 43,
      "outputs": [
        {
          "output_type": "stream",
          "name": "stdout",
          "text": [
            "Epoch 1/10\n",
            "469/469 [==============================] - 8s 17ms/step - loss: 0.5172 - accuracy: 0.8195\n",
            "Epoch 2/10\n",
            "469/469 [==============================] - 9s 19ms/step - loss: 0.3888 - accuracy: 0.8609\n",
            "Epoch 3/10\n",
            "469/469 [==============================] - 9s 19ms/step - loss: 0.3469 - accuracy: 0.8750\n",
            "Epoch 4/10\n",
            "469/469 [==============================] - 8s 17ms/step - loss: 0.3217 - accuracy: 0.8831\n",
            "Epoch 5/10\n",
            "469/469 [==============================] - 9s 18ms/step - loss: 0.3002 - accuracy: 0.8900\n",
            "Epoch 6/10\n",
            "469/469 [==============================] - 9s 19ms/step - loss: 0.2823 - accuracy: 0.8964\n",
            "Epoch 7/10\n",
            "469/469 [==============================] - 8s 17ms/step - loss: 0.2681 - accuracy: 0.9028\n",
            "Epoch 8/10\n",
            "469/469 [==============================] - 8s 18ms/step - loss: 0.2569 - accuracy: 0.9051\n",
            "Epoch 9/10\n",
            "469/469 [==============================] - 9s 19ms/step - loss: 0.2478 - accuracy: 0.9090\n",
            "Epoch 10/10\n",
            "469/469 [==============================] - 8s 18ms/step - loss: 0.2359 - accuracy: 0.9123\n"
          ]
        }
      ]
    },
    {
      "cell_type": "code",
      "source": [
        "pd.DataFrame(history_4.history).plot(figsize=(8, 5))\n",
        "plt.grid(True)\n",
        "plt.gca().set_ylim(0, 1)\n",
        "plt.show()"
      ],
      "metadata": {
        "colab": {
          "base_uri": "https://localhost:8080/",
          "height": 451
        },
        "id": "r6Fk93NKhBV9",
        "outputId": "4a8ee155-e388-4e12-a768-f311353257e9"
      },
      "execution_count": 72,
      "outputs": [
        {
          "output_type": "display_data",
          "data": {
            "text/plain": [
              "<Figure size 800x500 with 1 Axes>"
            ],
            "image/png": "[encoded data removed]"
          },
          "metadata": {}
        }
      ]
    },
    {
      "cell_type": "code",
      "source": [
        "# Оцінка якості моделі-4\n",
        "results_4 = model_4.evaluate(x_test, y_test)\n",
        "print(f'відсоток вірних відповідей - {round(results_4[1] * 100, 1)}%')"
      ],
      "metadata": {
        "colab": {
          "base_uri": "https://localhost:8080/"
        },
        "id": "NSarujDnB41m",
        "outputId": "29442379-9424-47ca-ccd0-ae05698285fb"
      },
      "execution_count": 44,
      "outputs": [
        {
          "output_type": "stream",
          "name": "stdout",
          "text": [
            "313/313 [==============================] - 1s 3ms/step - loss: 0.3166 - accuracy: 0.8878\n",
            "відсоток вірних відповідей - 88.8%\n"
          ]
        }
      ]
    },
    {
      "cell_type": "markdown",
      "source": [
        "Висновок щодо МОДЕЛІ-4: Модель побудована із гіперпараметрами що в результаті дають досить високий показник точності. Також ця модель  швдше навчається  за модель-2 (1хв проти 9 хв)"
      ],
      "metadata": {
        "id": "62hkRW0bCcpD"
      }
    },
    {
      "cell_type": "code",
      "source": [],
      "metadata": {
        "id": "5Ion61KSB49E"
      },
      "execution_count": null,
      "outputs": []
    },
    {
      "cell_type": "code",
      "source": [
        "# Створюємо модель нейронної мережі (НМ)\n",
        "# ВАРІАНТ-5: Аналогічна моделі-4, з відмінністю у додаванні 2-х шарів вимикання нейронів\n",
        "model_5 = Sequential()\n",
        "model_5.add(Dense(800, activation='linear', input_shape=(784,)))\n",
        "model_5.add(Dropout(0,2))\n",
        "model_5.add(Dense(400, activation='relu'))\n",
        "model_5.add(Dropout(0,2))\n",
        "model_5.add(Dense(10, activation='sigmoid'))"
      ],
      "metadata": {
        "id": "MaZslLQ-I0No"
      },
      "execution_count": 45,
      "outputs": []
    },
    {
      "cell_type": "code",
      "source": [
        "# Компілюємо модель (підгонка терезів нейромережі)\n",
        "model_5.compile(\n",
        "    optimizer=\"adamax\",\n",
        "    loss=\"categorical_crossentropy\",\n",
        "    metrics=[\"accuracy\"]\n",
        "    )"
      ],
      "metadata": {
        "id": "R17dAeioI_cO"
      },
      "execution_count": 46,
      "outputs": []
    },
    {
      "cell_type": "code",
      "source": [
        "# дізнаємося архітектуру створеної НМ\n",
        "model_5.summary()"
      ],
      "metadata": {
        "colab": {
          "base_uri": "https://localhost:8080/"
        },
        "id": "nkpj4vMaI_3W",
        "outputId": "4c0d1f3b-ea9c-49b3-8c25-ff1971307664"
      },
      "execution_count": 47,
      "outputs": [
        {
          "output_type": "stream",
          "name": "stdout",
          "text": [
            "Model: \"sequential_8\"\n",
            "_________________________________________________________________\n",
            " Layer (type)                Output Shape              Param #   \n",
            "=================================================================\n",
            " dense_23 (Dense)            (None, 800)               628000    \n",
            "                                                                 \n",
            " dropout (Dropout)           (None, 800)               0         \n",
            "                                                                 \n",
            " dense_24 (Dense)            (None, 400)               320400    \n",
            "                                                                 \n",
            " dropout_1 (Dropout)         (None, 400)               0         \n",
            "                                                                 \n",
            " dense_25 (Dense)            (None, 10)                4010      \n",
            "                                                                 \n",
            "=================================================================\n",
            "Total params: 952410 (3.63 MB)\n",
            "Trainable params: 952410 (3.63 MB)\n",
            "Non-trainable params: 0 (0.00 Byte)\n",
            "_________________________________________________________________\n"
          ]
        }
      ]
    },
    {
      "cell_type": "code",
      "source": [
        "# навчання нейронної мережі - передаємо тренувальні та валідаційні дані, встановлюємо максимальну кількість епох, а також встановлюємо розмір пакету даних batch_size=512, на яких буде здійснено навчання.\n",
        "history_5 = model_5.fit(\n",
        "                    x_train,\n",
        "                    y_train,\n",
        "                    epochs=10,\n",
        "                    batch_size=128,\n",
        "                    verbose=\"auto\"\n",
        "                        )"
      ],
      "metadata": {
        "colab": {
          "base_uri": "https://localhost:8080/"
        },
        "id": "Nd8p5uGQI__J",
        "outputId": "b49a3470-1173-4828-c1dc-72afc5c554c5"
      },
      "execution_count": 48,
      "outputs": [
        {
          "output_type": "stream",
          "name": "stdout",
          "text": [
            "Epoch 1/10\n",
            "469/469 [==============================] - 10s 19ms/step - loss: 0.5109 - accuracy: 0.8208\n",
            "Epoch 2/10\n",
            "469/469 [==============================] - 9s 19ms/step - loss: 0.3840 - accuracy: 0.8640\n",
            "Epoch 3/10\n",
            "469/469 [==============================] - 8s 17ms/step - loss: 0.3466 - accuracy: 0.8754\n",
            "Epoch 4/10\n",
            "469/469 [==============================] - 9s 19ms/step - loss: 0.3196 - accuracy: 0.8849\n",
            "Epoch 5/10\n",
            "469/469 [==============================] - 9s 20ms/step - loss: 0.2994 - accuracy: 0.8901\n",
            "Epoch 6/10\n",
            "469/469 [==============================] - 8s 17ms/step - loss: 0.2831 - accuracy: 0.8961\n",
            "Epoch 7/10\n",
            "469/469 [==============================] - 9s 19ms/step - loss: 0.2675 - accuracy: 0.9024\n",
            "Epoch 8/10\n",
            "469/469 [==============================] - 9s 19ms/step - loss: 0.2540 - accuracy: 0.9066\n",
            "Epoch 9/10\n",
            "469/469 [==============================] - 8s 18ms/step - loss: 0.2452 - accuracy: 0.9100\n",
            "Epoch 10/10\n",
            "469/469 [==============================] - 8s 18ms/step - loss: 0.2329 - accuracy: 0.9145\n"
          ]
        }
      ]
    },
    {
      "cell_type": "code",
      "source": [
        "pd.DataFrame(history_5.history).plot(figsize=(8, 5))\n",
        "plt.grid(True)\n",
        "plt.gca().set_ylim(0, 1)\n",
        "plt.show()"
      ],
      "metadata": {
        "colab": {
          "base_uri": "https://localhost:8080/",
          "height": 451
        },
        "id": "PgEmB-N4hKoK",
        "outputId": "de20af66-e12d-4174-e59b-cc9172973ab0"
      },
      "execution_count": 73,
      "outputs": [
        {
          "output_type": "display_data",
          "data": {
            "text/plain": [
              "<Figure size 800x500 with 1 Axes>"
            ],
            "image/png": "[encoded data removed]"
          },
          "metadata": {}
        }
      ]
    },
    {
      "cell_type": "code",
      "source": [
        "# Оцінка якості моделі-5\n",
        "results_5 = model_5.evaluate(x_test, y_test)\n",
        "print(f'відсоток вірних відповідей - {round(results_5[1] * 100, 1)}%')"
      ],
      "metadata": {
        "colab": {
          "base_uri": "https://localhost:8080/"
        },
        "id": "QE7717HrJAF9",
        "outputId": "aea85859-e10e-48d9-d270-3473cf2e2f24"
      },
      "execution_count": 49,
      "outputs": [
        {
          "output_type": "stream",
          "name": "stdout",
          "text": [
            "313/313 [==============================] - 1s 3ms/step - loss: 0.3277 - accuracy: 0.8837\n",
            "відсоток вірних відповідей - 88.4%\n"
          ]
        }
      ]
    },
    {
      "cell_type": "markdown",
      "source": [
        "Висновок щодо МОДЕЛІ-5: в порівнянні із моделлю-4 додавання шарів вимкнення нейронів призвело до несуттєвого погіршення (0,4%) результативності НМ."
      ],
      "metadata": {
        "id": "G4vfjmkAJHYg"
      }
    },
    {
      "cell_type": "code",
      "source": [],
      "metadata": {
        "id": "0mknUDlmJANM"
      },
      "execution_count": null,
      "outputs": []
    },
    {
      "cell_type": "code",
      "source": [
        "# Створюємо модель нейронної мережі (НМ)\n",
        "# ВАРІАНТ-6:\n",
        "model_6 = Sequential()\n",
        "model_6.add(Dense(128, activation='relu', input_shape=[784,]))\n",
        "model_6.add(Dense(128, activation='relu'))\n",
        "model_6.add(Dropout(0,2))\n",
        "model_6.add(Dense(10, activation='softmax'))"
      ],
      "metadata": {
        "id": "a_WnhFIrJATp"
      },
      "execution_count": 54,
      "outputs": []
    },
    {
      "cell_type": "code",
      "source": [
        "# Компілюємо модель (підгонка терезів нейромережі)\n",
        "model_6.compile(\n",
        "    optimizer=\"adam\", loss=\"categorical_crossentropy\", metrics=[\"accuracy\"]\n",
        ")\n"
      ],
      "metadata": {
        "id": "YIC_iGIwKaIK"
      },
      "execution_count": 58,
      "outputs": []
    },
    {
      "cell_type": "code",
      "source": [
        "# дізнаємося архітектуру створеної НМ\n",
        "model_6.summary()"
      ],
      "metadata": {
        "colab": {
          "base_uri": "https://localhost:8080/"
        },
        "id": "TMYQe-_tKaLh",
        "outputId": "f7bb4b03-7e6f-438e-b497-02c52e573333"
      },
      "execution_count": 59,
      "outputs": [
        {
          "output_type": "stream",
          "name": "stdout",
          "text": [
            "Model: \"sequential_10\"\n",
            "_________________________________________________________________\n",
            " Layer (type)                Output Shape              Param #   \n",
            "=================================================================\n",
            " dense_29 (Dense)            (None, 128)               100480    \n",
            "                                                                 \n",
            " dense_30 (Dense)            (None, 128)               16512     \n",
            "                                                                 \n",
            " dropout_4 (Dropout)         (None, 128)               0         \n",
            "                                                                 \n",
            " dense_31 (Dense)            (None, 10)                1290      \n",
            "                                                                 \n",
            "=================================================================\n",
            "Total params: 118282 (462.04 KB)\n",
            "Trainable params: 118282 (462.04 KB)\n",
            "Non-trainable params: 0 (0.00 Byte)\n",
            "_________________________________________________________________\n"
          ]
        }
      ]
    },
    {
      "cell_type": "code",
      "source": [
        "# навчання нейронної мережі - передаємо тренувальні та валідаційні дані, встановлюємо максимальну кількість епох, а також встановлюємо розмір пакету даних batch_size=512, на яких буде здійснено навчання.\n",
        "history_6 = model_6.fit(\n",
        "    x_train,\n",
        "    y_train,\n",
        "    epochs=30,\n",
        "    batch_size=512,\n",
        "    verbose=\"auto\"\n",
        ")"
      ],
      "metadata": {
        "colab": {
          "base_uri": "https://localhost:8080/"
        },
        "id": "_Ri06gAeKaNx",
        "outputId": "70a1206b-e965-4f1b-844c-a0c2f99efb59"
      },
      "execution_count": 62,
      "outputs": [
        {
          "output_type": "stream",
          "name": "stdout",
          "text": [
            "Epoch 1/30\n",
            "118/118 [==============================] - 2s 13ms/step - loss: 0.2162 - accuracy: 0.9194\n",
            "Epoch 2/30\n",
            "118/118 [==============================] - 1s 8ms/step - loss: 0.2049 - accuracy: 0.9243\n",
            "Epoch 3/30\n",
            "118/118 [==============================] - 1s 8ms/step - loss: 0.1990 - accuracy: 0.9256\n",
            "Epoch 4/30\n",
            "118/118 [==============================] - 1s 8ms/step - loss: 0.1960 - accuracy: 0.9275\n",
            "Epoch 5/30\n",
            "118/118 [==============================] - 1s 8ms/step - loss: 0.1921 - accuracy: 0.9293\n",
            "Epoch 6/30\n",
            "118/118 [==============================] - 1s 8ms/step - loss: 0.1886 - accuracy: 0.9302\n",
            "Epoch 7/30\n",
            "118/118 [==============================] - 1s 8ms/step - loss: 0.1841 - accuracy: 0.9312\n",
            "Epoch 8/30\n",
            "118/118 [==============================] - 1s 8ms/step - loss: 0.1798 - accuracy: 0.9345\n",
            "Epoch 9/30\n",
            "118/118 [==============================] - 1s 8ms/step - loss: 0.1769 - accuracy: 0.9344\n",
            "Epoch 10/30\n",
            "118/118 [==============================] - 1s 8ms/step - loss: 0.1754 - accuracy: 0.9348\n",
            "Epoch 11/30\n",
            "118/118 [==============================] - 1s 8ms/step - loss: 0.1659 - accuracy: 0.9381\n",
            "Epoch 12/30\n",
            "118/118 [==============================] - 1s 8ms/step - loss: 0.1661 - accuracy: 0.9381\n",
            "Epoch 13/30\n",
            "118/118 [==============================] - 1s 12ms/step - loss: 0.1602 - accuracy: 0.9412\n",
            "Epoch 14/30\n",
            "118/118 [==============================] - 1s 11ms/step - loss: 0.1566 - accuracy: 0.9419\n",
            "Epoch 15/30\n",
            "118/118 [==============================] - 1s 8ms/step - loss: 0.1559 - accuracy: 0.9420\n",
            "Epoch 16/30\n",
            "118/118 [==============================] - 1s 8ms/step - loss: 0.1520 - accuracy: 0.9449\n",
            "Epoch 17/30\n",
            "118/118 [==============================] - 1s 8ms/step - loss: 0.1465 - accuracy: 0.9467\n",
            "Epoch 18/30\n",
            "118/118 [==============================] - 1s 8ms/step - loss: 0.1482 - accuracy: 0.9453\n",
            "Epoch 19/30\n",
            "118/118 [==============================] - 1s 8ms/step - loss: 0.1427 - accuracy: 0.9477\n",
            "Epoch 20/30\n",
            "118/118 [==============================] - 1s 8ms/step - loss: 0.1349 - accuracy: 0.9506\n",
            "Epoch 21/30\n",
            "118/118 [==============================] - 1s 8ms/step - loss: 0.1445 - accuracy: 0.9465\n",
            "Epoch 22/30\n",
            "118/118 [==============================] - 1s 8ms/step - loss: 0.1317 - accuracy: 0.9518\n",
            "Epoch 23/30\n",
            "118/118 [==============================] - 1s 8ms/step - loss: 0.1293 - accuracy: 0.9527\n",
            "Epoch 24/30\n",
            "118/118 [==============================] - 1s 8ms/step - loss: 0.1279 - accuracy: 0.9530\n",
            "Epoch 25/30\n",
            "118/118 [==============================] - 2s 15ms/step - loss: 0.1223 - accuracy: 0.9560\n",
            "Epoch 26/30\n",
            "118/118 [==============================] - 2s 16ms/step - loss: 0.1231 - accuracy: 0.9556\n",
            "Epoch 27/30\n",
            "118/118 [==============================] - 1s 8ms/step - loss: 0.1259 - accuracy: 0.9548\n",
            "Epoch 28/30\n",
            "118/118 [==============================] - 1s 8ms/step - loss: 0.1147 - accuracy: 0.9592\n",
            "Epoch 29/30\n",
            "118/118 [==============================] - 1s 8ms/step - loss: 0.1112 - accuracy: 0.9602\n",
            "Epoch 30/30\n",
            "118/118 [==============================] - 1s 8ms/step - loss: 0.1135 - accuracy: 0.9593\n"
          ]
        }
      ]
    },
    {
      "cell_type": "code",
      "source": [
        "pd.DataFrame(history_6.history).plot(figsize=(8, 5))\n",
        "plt.grid(True)\n",
        "plt.gca().set_ylim(0, 1)\n",
        "plt.show()"
      ],
      "metadata": {
        "colab": {
          "base_uri": "https://localhost:8080/",
          "height": 451
        },
        "id": "4uRtHqhihQ_G",
        "outputId": "1d40d8e0-df08-4a81-b7b2-c6ee026e120c"
      },
      "execution_count": 74,
      "outputs": [
        {
          "output_type": "display_data",
          "data": {
            "text/plain": [
              "<Figure size 800x500 with 1 Axes>"
            ],
            "image/png": "[encoded data removed]"
          },
          "metadata": {}
        }
      ]
    },
    {
      "cell_type": "markdown",
      "source": [
        "Висновок щодо МОДЕЛІ-6: Модель побудована із гіперпараметрами що в результаті дають досить високий показник точності. За показниками ефективності відповідає моделі-4"
      ],
      "metadata": {
        "id": "yIIAqx83K6JL"
      }
    },
    {
      "cell_type": "code",
      "source": [],
      "metadata": {
        "id": "chmVQs4SKaY5"
      },
      "execution_count": null,
      "outputs": []
    }
  ]
}